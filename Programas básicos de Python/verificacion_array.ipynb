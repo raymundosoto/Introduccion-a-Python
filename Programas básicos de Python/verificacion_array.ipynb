{
 "cells": [
  {
   "cell_type": "code",
   "execution_count": null,
   "metadata": {},
   "outputs": [],
   "source": [
    "import numpy as np \n",
    "arr = np.array([100, 2.7, 8.3333, 4, 0.5])\n",
    "print(arr) \n",
    "print(type(arr)) "
   ]
  }
 ],
 "metadata": {
  "kernelspec": {
   "display_name": "Python 3.9.12 ('base')",
   "language": "python",
   "name": "python3"
  },
  "language_info": {
   "name": "python",
   "version": "3.9.12"
  },
  "orig_nbformat": 4,
  "vscode": {
   "interpreter": {
    "hash": "dd2a2127c2ce8bbf18677077cb049e0e2035fdc5515494ae4b4b87a7d1c10a88"
   }
  }
 },
 "nbformat": 4,
 "nbformat_minor": 2
}
